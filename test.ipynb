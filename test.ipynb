{
 "cells": [
  {
   "cell_type": "code",
   "execution_count": 14,
   "metadata": {},
   "outputs": [
    {
     "name": "stdout",
     "output_type": "stream",
     "text": [
      "Cód. Artículo {7837: '17307'}\n",
      "\n",
      "Descripción {7837: '2 TOMACORRIENTE BINORMA 10A'}\n",
      "\n",
      "Desc. Adicional {7837: nan}\n",
      "\n",
      "Sinónimo {7837: 'E420R'}\n",
      "\n",
      "Código de Barras {7837: nan}\n",
      "\n",
      "Precio {7837: '1.500,0000'}\n",
      "\n",
      "Lista de precios {7837: 'LISTA 1'}\n",
      "\n",
      "Fecha de última modificación {7837: '20/1/2024'}\n",
      "\n",
      "Art. carpeta nivel 1 {7837: 'MIG'}\n",
      "\n"
     ]
    }
   ],
   "source": [
    "import pandas as pd\n",
    "df = pd.read_csv(\"docs\\\\data.csv\", delimiter=';', on_bad_lines='skip')\n",
    "\n",
    "article_code = \"17307\" # Validar esto y verificar que existe, de lo contrario dar mensaje de error\n",
    "result = df[df['Cód. Artículo'] == article_code]\n",
    "\n",
    "#\n",
    "\n",
    "result= result.to_dict()\n",
    "result.items()\n",
    "for key, value in result.items():\n",
    "    print(key, value)\n",
    "    print(\"\")"
   ]
  }
 ],
 "metadata": {
  "kernelspec": {
   "display_name": "Python 3",
   "language": "python",
   "name": "python3"
  },
  "language_info": {
   "codemirror_mode": {
    "name": "ipython",
    "version": 3
   },
   "file_extension": ".py",
   "mimetype": "text/x-python",
   "name": "python",
   "nbconvert_exporter": "python",
   "pygments_lexer": "ipython3",
   "version": "3.12.1"
  }
 },
 "nbformat": 4,
 "nbformat_minor": 2
}
